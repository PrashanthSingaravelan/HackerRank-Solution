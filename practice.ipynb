{
 "cells": [
  {
   "cell_type": "code",
   "execution_count": 1,
   "id": "ecdddbdb",
   "metadata": {},
   "outputs": [],
   "source": [
    "import numpy as np"
   ]
  },
  {
   "cell_type": "code",
   "execution_count": 2,
   "id": "338e8afb",
   "metadata": {},
   "outputs": [],
   "source": [
    "list1 = [2,4]\n",
    "list2 = [16, 32, 96]"
   ]
  },
  {
   "cell_type": "code",
   "execution_count": 3,
   "id": "ecfe099c",
   "metadata": {},
   "outputs": [],
   "source": [
    "def factor(element):\n",
    "    list_fact = []\n",
    "    for i in range(1, int(element / 2)+1): ## going only half a way\n",
    "        if (element%i == 0):\n",
    "            list_fact.append(i)\n",
    "            \n",
    "    list_fact.append(element)\n",
    "    return list_fact"
   ]
  },
  {
   "cell_type": "code",
   "execution_count": 4,
   "id": "ee6f9530",
   "metadata": {},
   "outputs": [
    {
     "data": {
      "text/plain": [
       "[[1, 2, 4, 8, 16],\n",
       " [1, 2, 4, 8, 16, 32],\n",
       " [1, 2, 3, 4, 6, 8, 12, 16, 24, 32, 48, 96]]"
      ]
     },
     "execution_count": 4,
     "metadata": {},
     "output_type": "execute_result"
    }
   ],
   "source": [
    "list_fact = []\n",
    "for i in list2:\n",
    "    list_fact.append(factor(i))\n",
    "    \n",
    "list_fact"
   ]
  },
  {
   "cell_type": "code",
   "execution_count": 5,
   "id": "f8235e4d",
   "metadata": {},
   "outputs": [
    {
     "data": {
      "text/plain": [
       "[2, 4, 8, 16]"
      ]
     },
     "execution_count": 5,
     "metadata": {},
     "output_type": "execute_result"
    }
   ],
   "source": [
    "list_fact_cmn = set.intersection(*[set(list) for list in list_fact])\n",
    "list_fact_cmn = list(list_fact_cmn)\n",
    "list_fact_cmn = list_fact_cmn[1:]    ## removing 1st element \n",
    "list_fact_cmn"
   ]
  },
  {
   "cell_type": "code",
   "execution_count": 6,
   "id": "a92466e9",
   "metadata": {},
   "outputs": [],
   "source": [
    "def multiple(element, end):\n",
    "    return list(range(element,end+1,element))"
   ]
  },
  {
   "cell_type": "code",
   "execution_count": 7,
   "id": "01b3b21c",
   "metadata": {},
   "outputs": [
    {
     "data": {
      "text/plain": [
       "[[2, 4, 6, 8, 10, 12, 14, 16], [4, 8, 12, 16]]"
      ]
     },
     "execution_count": 7,
     "metadata": {},
     "output_type": "execute_result"
    }
   ],
   "source": [
    "list_mul = []\n",
    "for i in list1:\n",
    "    list_mul.append(multiple(i,list_fact_cmn[-1]))\n",
    "    \n",
    "list_mul"
   ]
  },
  {
   "cell_type": "code",
   "execution_count": 8,
   "id": "e3d48ffa",
   "metadata": {},
   "outputs": [
    {
     "data": {
      "text/plain": [
       "[8, 16, 4, 12]"
      ]
     },
     "execution_count": 8,
     "metadata": {},
     "output_type": "execute_result"
    }
   ],
   "source": [
    "list_mul_cmn = set.intersection(*[set(list) for list in list_mul])\n",
    "list_mul_cmn = list(list_mul_cmn)\n",
    "list_mul_cmn"
   ]
  },
  {
   "cell_type": "code",
   "execution_count": 9,
   "id": "58ae0fc8",
   "metadata": {},
   "outputs": [
    {
     "data": {
      "text/plain": [
       "3"
      ]
     },
     "execution_count": 9,
     "metadata": {},
     "output_type": "execute_result"
    }
   ],
   "source": [
    "len(set.intersection(set(list_fact_cmn) ,set(list_mul_cmn)))"
   ]
  },
  {
   "cell_type": "code",
   "execution_count": 10,
   "id": "0bb6acd8",
   "metadata": {},
   "outputs": [],
   "source": [
    "n,m = input().split()\n",
    "n, m = int(n), int(m)"
   ]
  },
  {
   "cell_type": "code",
   "execution_count": null,
   "id": "b972f492",
   "metadata": {},
   "outputs": [
    {
     "name": "stdout",
     "output_type": "stream",
     "text": [
      "1 2 3 4 5\n"
     ]
    }
   ],
   "source": [
    "list1 = list(map(int , input().split()))\n",
    "list2 = list(map(int , input().split()))"
   ]
  },
  {
   "cell_type": "code",
   "execution_count": null,
   "id": "3613fa5d",
   "metadata": {},
   "outputs": [
    {
     "data": {
      "text/plain": [
       "[1, 2, 3, 4, 5]"
      ]
     },
     "execution_count": 41,
     "metadata": {},
     "output_type": "execute_result"
    }
   ],
   "source": [
    "list1"
   ]
  },
  {
   "cell_type": "code",
   "execution_count": null,
   "id": "ae5115ef",
   "metadata": {},
   "outputs": [
    {
     "name": "stdout",
     "output_type": "stream",
     "text": [
      "2 3\n",
      "2 4\n",
      "16 32 96\n",
      "Factors\n",
      "[[1, 2, 4, 8, 16], [1, 2, 4, 8, 16, 32], [1, 2, 3, 4, 6, 8, 12, 16, 24, 32, 48, 96]]\n",
      "Common Factors\n",
      "[2, 4, 8, 16]\n",
      "Multiples\n",
      "[[2, 4, 6, 8, 10, 12, 14, 16], [4, 8, 12, 16]]\n",
      "Common Multiples\n",
      "[8, 16, 4, 12]\n",
      "Number of common elements :  3\n"
     ]
    }
   ],
   "source": [
    "def factor(element):\n",
    "    list_fact = []\n",
    "    for i in range(1, int(element / 2)+1): ## going only half a way\n",
    "        if (element%i == 0):\n",
    "            list_fact.append(i)\n",
    "            \n",
    "    list_fact.append(element)\n",
    "    return list_fact\n",
    "\n",
    "def multiple(element, end):\n",
    "    return list(range(element,end+1,element))\n",
    "\n",
    "def between_two_sets(list1, list2):\n",
    "    list_fact = []\n",
    "    for i in list2:\n",
    "         list_fact.append(factor(i))\n",
    "    \n",
    "    print(\"\\nFactors of list-1\")\n",
    "    print(list_fact)\n",
    "\n",
    "    list_fact_cmn = set.intersection(*[set(list) for list in list_fact])\n",
    "    list_fact_cmn = list(list_fact_cmn)\n",
    "    list_fact_cmn = list_fact_cmn[1:]    ## removing 1st element \n",
    "    \n",
    "    print(\"\\nCommon Factors of list-1\")\n",
    "    print(list_fact_cmn)\n",
    "\n",
    "    list_mul = []\n",
    "    for i in list1:\n",
    "        list_mul.append(multiple(i,list_fact_cmn[-1]))\n",
    "        \n",
    "    print(\"\\nMultiples of list-2\")    \n",
    "    print(list_mul)\n",
    "\n",
    "    list_mul_cmn = set.intersection(*[set(list) for list in list_mul])\n",
    "    list_mul_cmn = list(list_mul_cmn)\n",
    "    \n",
    "    print(\"\\nCommon Multiples of list-2\")\n",
    "    print(list_mul_cmn)\n",
    "\n",
    "    print(\"Number of common elements : \",len(set.intersection(set(list_fact_cmn) ,set(list_mul_cmn))))\n",
    "\n",
    "\n",
    "\n",
    "if __name__ == '__main__':\n",
    "    n,m = input().split()\n",
    "    n, m = int(n), int(m)\n",
    "\n",
    "    list1 = list(map(int , input().split()))\n",
    "    list2 = list(map(int , input().split()))    \n",
    "\n",
    "    between_two_sets(list1, list2)"
   ]
  },
  {
   "cell_type": "code",
   "execution_count": 55,
   "id": "04ed3090",
   "metadata": {},
   "outputs": [],
   "source": []
  },
  {
   "cell_type": "code",
   "execution_count": 56,
   "id": "22cfcb79",
   "metadata": {},
   "outputs": [],
   "source": []
  },
  {
   "cell_type": "code",
   "execution_count": 1,
   "id": "9317738f",
   "metadata": {},
   "outputs": [],
   "source": []
  },
  {
   "cell_type": "code",
   "execution_count": null,
   "id": "1ebcabe2",
   "metadata": {},
   "outputs": [],
   "source": []
  },
  {
   "cell_type": "code",
   "execution_count": 29,
   "id": "3cf62f6d",
   "metadata": {},
   "outputs": [],
   "source": [
    "def GCD(a,b):\n",
    "     \n",
    "    # Everything divides 0\n",
    "    if (b == 0):\n",
    "         return a\n",
    "    return GCD(b, a%b)"
   ]
  },
  {
   "cell_type": "code",
   "execution_count": 36,
   "id": "1a78360b",
   "metadata": {},
   "outputs": [],
   "source": [
    "def LCM(num1, num2):\n",
    "    \n",
    "    if (num1 == 0 or num2 == 0):\n",
    "        return 0\n",
    "    \n",
    "    else:\n",
    "        if (num1>num2): gcd = GCD(num1,num2)\n",
    "        else: gcd = GCD(num2,num1)\n",
    "    \n",
    "        lcm = int ( (num1 * num2) / gcd )\n",
    "        return lcm"
   ]
  },
  {
   "cell_type": "code",
   "execution_count": 37,
   "id": "30a9a33e",
   "metadata": {},
   "outputs": [],
   "source": [
    "def between_two_sets(list1, list2):\n",
    "    num1 = list1[0]\n",
    "    num2 = list1[1]\n",
    "\n",
    "    lcm = LCM(num1, num2)\n",
    "    for i in range(2, len(list1)):\n",
    "        lcm = LCM(lcm, list1[i])\n",
    "\n",
    "    print(\"LCM of list-1 : \",lcm)\n",
    "\n",
    "    num1 = list2[0]\n",
    "    num2 = list2[0]\n",
    "\n",
    "    gcd = GCD(num1, num2)\n",
    "    for i in range(2, len(list2)):\n",
    "        gcd = GCD(gcd, list2[i])\n",
    "\n",
    "    print(\"GCD of list-2 : \",gcd)\n",
    "\n",
    "    ## common multiples of lcm that divideds the gcd by 1\n",
    "    cnt = 0\n",
    "    multiple = 0\n",
    "    while (multiple < gcd):\n",
    "        multiple += lcm\n",
    "\n",
    "        if (gcd%multiple == 0):\n",
    "            cnt+=1\n",
    "    \n",
    "    return cnt"
   ]
  },
  {
   "cell_type": "code",
   "execution_count": 38,
   "id": "d947b65f",
   "metadata": {},
   "outputs": [
    {
     "name": "stdout",
     "output_type": "stream",
     "text": [
      "2 3\n",
      "2 4 8\n",
      "16 32 96\n",
      "LCM of list-1 :  8\n",
      "GCD of list-2 :  16\n",
      "2\n"
     ]
    }
   ],
   "source": [
    "if __name__ == '__main__':\n",
    "    n,m = input().split()\n",
    "    n, m = int(n), int(m)\n",
    "\n",
    "    list1 = list(map(int , input().split()))\n",
    "    list2 = list(map(int , input().split()))    \n",
    "\n",
    "    print(between_two_sets(list1, list2))"
   ]
  },
  {
   "cell_type": "code",
   "execution_count": 26,
   "id": "e590f0ff",
   "metadata": {},
   "outputs": [],
   "source": [
    "import numpy as np"
   ]
  },
  {
   "cell_type": "code",
   "execution_count": 27,
   "id": "e4bbf0e9",
   "metadata": {},
   "outputs": [
    {
     "data": {
      "text/plain": [
       "1.5"
      ]
     },
     "execution_count": 27,
     "metadata": {},
     "output_type": "execute_result"
    }
   ],
   "source": [
    "np.abs(3/2)"
   ]
  },
  {
   "cell_type": "code",
   "execution_count": null,
   "id": "b85a5fca",
   "metadata": {},
   "outputs": [],
   "source": []
  }
 ],
 "metadata": {
  "kernelspec": {
   "display_name": "Python 3 (ipykernel)",
   "language": "python",
   "name": "python3"
  },
  "language_info": {
   "codemirror_mode": {
    "name": "ipython",
    "version": 3
   },
   "file_extension": ".py",
   "mimetype": "text/x-python",
   "name": "python",
   "nbconvert_exporter": "python",
   "pygments_lexer": "ipython3",
   "version": "3.9.7"
  }
 },
 "nbformat": 4,
 "nbformat_minor": 5
}
